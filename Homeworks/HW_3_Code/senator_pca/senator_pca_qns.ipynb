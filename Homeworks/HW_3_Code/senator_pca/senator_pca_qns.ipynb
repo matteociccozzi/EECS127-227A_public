{
 "cells": [
  {
   "cell_type": "markdown",
   "metadata": {},
   "source": [
    "# PCA and senate voting data\n"
   ]
  },
  {
   "cell_type": "markdown",
   "metadata": {},
   "source": [
    "In this problem, we are given the $m \\times n$ data matrix $X$ with entries in $\\{-1,0,1\\}$, where each row corresponds to a senator and each column to a bill. We first import this data, print some relevant values, and normalize it as necessary to ready it for further computation.\n",
    "\n",
    "To run this code, you'll need a number of standard Python libraries, all of which are installed. Simply run the following cell to import them.\n",
    "\n",
    "### Places you will need to modify this code are enclosed in a $\\texttt{#TODO}$ block. You should not need to modify code outside these blocks to complete the problems. Questions that you are expected to answer in text are marked in <font color='red'>red</font>. For solution files, solutions will be presented in <font color='blue'>blue</font>."
   ]
  },
  {
   "cell_type": "code",
   "execution_count": null,
   "metadata": {},
   "outputs": [],
   "source": [
    "# import the necessary packages for data manipulation, computation and PCA \n",
    "import pandas as pd\n",
    "import numpy as np\n",
    "import scipy as sp\n",
    "import matplotlib.pyplot as plt\n",
    "from sklearn.decomposition import PCA\n",
    "%matplotlib inline\n",
    "\n",
    "np.random.seed(10)"
   ]
  },
  {
   "cell_type": "code",
   "execution_count": null,
   "metadata": {},
   "outputs": [],
   "source": [
    "# import the data matrix\n",
    "senator_df =  pd.read_csv('senator_data_pca/data_matrix.csv')\n",
    "affiliation_file = open('senator_data_pca/politician_labels.txt', 'r')\n",
    "affiliations = [line.split('\\n')[0].split(' ')[1] for line in affiliation_file.readlines()]\n",
    "X = np.array(senator_df.values[:, 3:].T, dtype='float64') # transpose to get senators as rows\n",
    "print('X.shape: ', X.shape)\n",
    "n = X.shape[0] # number of senators\n",
    "m = X.shape[1] # number of bills"
   ]
  },
  {
   "cell_type": "markdown",
   "metadata": {},
   "source": [
    "We observe that the number of rows, $n$, is the number of senators and is equal to 100. The number of columns, $m$, is the number of bills and is equal to 542. "
   ]
  },
  {
   "cell_type": "code",
   "execution_count": null,
   "metadata": {},
   "outputs": [],
   "source": [
    "# print an example row of the data matrix\n",
    "typical_row = X[0,:]\n",
    "print(typical_row.shape)\n",
    "print(typical_row)"
   ]
  },
  {
   "cell_type": "markdown",
   "metadata": {},
   "source": [
    "A row of $X$ consists of 542 entries -1 (senator voted against), 1 (senator voted for), or 0 (senator abstained), one for each bill. "
   ]
  },
  {
   "cell_type": "code",
   "execution_count": null,
   "metadata": {},
   "outputs": [],
   "source": [
    "# print an example column of the data matrix\n",
    "typical_column = X[:,0]\n",
    "print(typical_column.shape)\n",
    "print(typical_column)"
   ]
  },
  {
   "cell_type": "markdown",
   "metadata": {},
   "source": [
    "A column of $X$ consists of 100 entries in \\{-1, 0, 1\\}, one for each senator that voted on the bill."
   ]
  },
  {
   "cell_type": "code",
   "execution_count": null,
   "metadata": {},
   "outputs": [],
   "source": [
    "# compute the mean vote on each bill\n",
    "X_mean = np.mean(X, axis = 0)\n",
    "plt.plot(X_mean)\n",
    "plt.title('means of each column of X')\n",
    "plt.xlabel('column/bill')\n",
    "plt.ylabel('mean vote')\n",
    "plt.show()"
   ]
  },
  {
   "cell_type": "markdown",
   "metadata": {},
   "source": [
    "We observe that the mean of the columns is not zero, so we center the data by subtracting the mean of each bill's vote from its respective column. \n",
    "\n",
    "We then plot the mean again, notice the labels on the axes. "
   ]
  },
  {
   "cell_type": "code",
   "execution_count": null,
   "metadata": {},
   "outputs": [],
   "source": [
    "# center the data matrix\n",
    "X_original = X.copy() # save a copy for part (d) and (e)\n",
    "X = X - np.mean(X, axis = 0)\n",
    "centered_X_mean = np.mean(X, axis = 0)\n",
    "plt.plot(centered_X_mean)\n",
    "plt.title('means of each column of X')\n",
    "plt.xlabel('column/bill')\n",
    "plt.ylabel('mean vote')\n",
    "plt.show()"
   ]
  },
  {
   "cell_type": "markdown",
   "metadata": {},
   "source": [
    "## a) Maximizing ${\\rm var}(f(X,a))$\n",
    "\n",
    "In this problem, you are asked to find a unit norm vector $a \\in R^m$ that maximizes the variance, given by ${\\rm var}(f(X,a))$."
   ]
  },
  {
   "cell_type": "markdown",
   "metadata": {},
   "source": [
    "We first provide a function to calculate the scores, $f(X,a)$."
   ]
  },
  {
   "cell_type": "code",
   "execution_count": null,
   "metadata": {},
   "outputs": [],
   "source": [
    "# define score function\n",
    "def f(X, a):\n",
    "    return np.matmul(X,a)"
   ]
  },
  {
   "cell_type": "markdown",
   "metadata": {},
   "source": [
    "Before we calculate the $a$ that maximizes variance, let's observe what the scalar projections on a random vector looks like."
   ]
  },
  {
   "cell_type": "code",
   "execution_count": null,
   "metadata": {},
   "outputs": [],
   "source": [
    "# generate a random direction and normalize the vector\n",
    "a_rand = np.random.rand(542,1)\n",
    "a_rand = a_rand/np.linalg.norm(a_rand)\n",
    "\n",
    "# compute associated scores along a_rand\n",
    "scores_rand = f(X, a_rand)\n",
    "\n",
    "# visualize the scores along a_rand, coloring them by party affiliation\n",
    "plt.scatter(scores_rand, np.zeros_like(scores_rand), c=affiliations)\n",
    "plt.title('projections along random direction a_rand')\n",
    "plt.xlabel('$<x_i, a>$')\n",
    "cur_axes = plt.gca()\n",
    "cur_axes.axes.get_yaxis().set_visible(False)\n",
    "plt.show()\n",
    "\n",
    "print('variance along random direction a_rand: ', '%.4f'%scores_rand.var())"
   ]
  },
  {
   "cell_type": "markdown",
   "metadata": {},
   "source": [
    "Note here that projecting along the random vector $\\texttt{a_rand}$ does not explain much variance at all — data points are clustered together and intermixed across parties. It is clear that this direction does not give us any information about the senators' affiliations."
   ]
  },
  {
   "cell_type": "markdown",
   "metadata": {},
   "source": [
    "#### Fill in the code below to find direction $\\texttt{a_1}$ that maximizes variance. Note that this will be the first principal component of $\\texttt{X}$ ."
   ]
  },
  {
   "cell_type": "code",
   "execution_count": null,
   "metadata": {},
   "outputs": [],
   "source": [
    "################################################################################\n",
    "### TODO: Calculate a_1, the first principal component of X.\n",
    "# Hint: The PCA package imported from sklearn.decomposition will be useful here, \n",
    "# in particular the function pca.fit(). What should the dimensions of a_1 be?\n",
    "a_1 = np.random.rand(542,1) # replace w/ first principal component\n",
    "\n",
    "\n",
    "print(\"first principal component (a_1) shape: {}\".format(a_1.shape))\n",
    "\n",
    "\n",
    "### end TODO\n",
    "################################################################################\n",
    "\n",
    "a_1 = a_1/np.linalg.norm(a_1)\n",
    "# compute and visualize the scores along a_1\n",
    "scores_a_1 = f(X, a_1)\n",
    "\n",
    "plt.scatter(scores_a_1, np.zeros_like(scores_a_1), c=affiliations)\n",
    "plt.title('projections along first principal component a_1')\n",
    "plt.xlabel('$<x_i, a>$')\n",
    "cur_axes = plt.gca()\n",
    "cur_axes.axes.get_yaxis().set_visible(False)\n",
    "plt.show()\n",
    "\n",
    "print('variance along first principal component: ', '%.4f'%scores_a_1.var())"
   ]
  },
  {
   "cell_type": "markdown",
   "metadata": {},
   "source": [
    "If you computed $\\texttt{a_1}$ correctly, you should observe that the variance is much higher than the $\\texttt{a_rand}$ projection (at least 10 times higher), and that blue and red dots are now spread in two clusters. \n",
    "\n",
    "Why does this make sense? The first principal component is the direction along which data varies most, and that is often along party lines. You just found a mathematical model for partisanship!"
   ]
  },
  {
   "cell_type": "markdown",
   "metadata": {},
   "source": [
    "## b) Comparison to party averages\n",
    "\n",
    "We observed above that the direction of maximum variance appears to be determined by party alignment; we now want to quantify how true that is by computing variance along vectors that describe the average position of each party. Specifically, we will compute variance along the following two vectors:\n",
    "\n",
    "- $\\texttt{a_mean_red}$: unit vector along the mean of rows of $\\texttt{X}$ corresponding to ‘Red’ senators\n",
    "- $\\texttt{a_mean_blue}$: unit vector along the mean of rows of $\\texttt{X}$ corresponding to ‘Blue’ senators\n",
    "\n",
    "#### Fill in the code as indicated below to calculate these values and compute their relationships to $\\texttt{a_1}$ and each other, then answer the interpretation question that follows."
   ]
  },
  {
   "cell_type": "code",
   "execution_count": null,
   "metadata": {},
   "outputs": [],
   "source": [
    "## ### TODO: Calculate mu_red, the array of dimension (542, 1) whose values \n",
    "### are the mean across rows of X corresponding to 'Red' senators only.\n",
    "# Hint: Print out the 'affiliations' variable and observe its contents.\n",
    "# print(len(affiliations))\n",
    "#print(affiliations)\n",
    "# print(X.shape)\n",
    "\n",
    "mu_red = np.random.rand(542,1) #TODO replace mu_red - make sure it has size (541,1) not (542,)\n",
    "\n",
    "### end TODO\n",
    "################################################################################\n",
    "\n",
    "# normalize the vector to generate unit a_mean_red\n",
    "a_mean_red = mu_red/np.linalg.norm(mu_red)\n",
    "\n",
    "# compute and visualize the scores along a_mean_red\n",
    "scores_mean_red = f(X, a_mean_red)\n",
    "\n",
    "plt.scatter(scores_mean_red, np.zeros_like(scores_mean_red), c=affiliations)\n",
    "plt.title('projections along mean voting vector of red senators')\n",
    "plt.xlabel('$<x_i, a>$')\n",
    "cur_axes = plt.gca()\n",
    "cur_axes.axes.get_yaxis().set_visible(False)\n",
    "plt.show()\n",
    "\n",
    "print('variance along mean voting vector of red senators: ', '%.4f'%scores_mean_red.var())\n",
    "\n",
    "# check angle between mean voting vector of red senators and the first principal component\n",
    "dot_product_red_a1 = float(np.dot(a_mean_red.T, a_1))\n",
    "angle_red_a1 = np.arccos(dot_product_red_a1/(np.linalg.norm(a_mean_red)*np.linalg.norm(a_1)))*180/np.pi\n",
    "\n",
    "print('dot product of a_mean_red and a_1: ', '%.4f'%dot_product_red_a1)\n",
    "print('angle between a_mean_red and a_1 (degrees): ', '%.4f'%angle_red_a1)"
   ]
  },
  {
   "cell_type": "code",
   "execution_count": null,
   "metadata": {},
   "outputs": [],
   "source": [
    "################################################################################\n",
    "### TODO: Calculate mu_blue, the array of dimension (542, 1) whose values \n",
    "### are the mean across rows of X corresponding to 'RBlue' senators only.\n",
    "# Hint: Print out the 'affiliations' variable and observe its contents.\n",
    "# print(len(affiliations))\n",
    "# print(affiliations)\n",
    "\n",
    "mu_blue = np.random.rand(542,1) # TODO \n",
    "\n",
    "### end TODO\n",
    "################################################################################\n",
    "\n",
    "# normalize the vector to generate unit a_mean_blue\n",
    "a_mean_blue = mu_blue/np.linalg.norm(mu_blue)\n",
    "\n",
    "# compute and visualize the scores along a_mean_blue\n",
    "scores_mean_blue = f(X, a_mean_blue)\n",
    "\n",
    "plt.scatter(scores_mean_blue, np.zeros_like(scores_mean_blue), c=affiliations)\n",
    "plt.title('projections along mean voting vector of blue senators')\n",
    "plt.xlabel('$<x_i, a>$')\n",
    "cur_axes = plt.gca()\n",
    "cur_axes.axes.get_yaxis().set_visible(False)\n",
    "plt.show()\n",
    "\n",
    "print('variance along mean voting vector of blue senators: ', '%.4f'%scores_mean_blue.var())\n",
    "\n",
    "# check angle between mean voting vector of red senators and the first principal component\n",
    "dot_product_blue_a1 = float(np.dot(a_mean_blue.T, a_1))\n",
    "angle_blue_a1 = np.arccos(dot_product_blue_a1/(np.linalg.norm(a_mean_blue)*np.linalg.norm(a_1)))*180/np.pi\n",
    "\n",
    "print('dot product of a_mean_blue and a_1: ', '%.4f'%dot_product_blue_a1)\n",
    "print('angle between a_mean_blue and a_1 (degrees): ', '%.4f'%angle_blue_a1)\n"
   ]
  },
  {
   "cell_type": "code",
   "execution_count": null,
   "metadata": {},
   "outputs": [],
   "source": [
    "# compute dot product of and angle between a_mean_red and a_mean_blue:\n",
    "dot_product_blue_red = float(np.dot(a_mean_blue.T, a_mean_red))\n",
    "angle_blue_red = np.arccos(dot_product_blue_red)*180/np.pi\n",
    "\n",
    "print('dot product of a_mean_blue and a_mean_red: ', '%.4f'%dot_product_blue_red)\n",
    "print('angle between a_mean_blue and a_mean_red (degrees): ', '%.4f'%angle_blue_red)\n"
   ]
  },
  {
   "cell_type": "markdown",
   "metadata": {},
   "source": [
    "### <font color='red'>TODO: Interpretation</font>\n",
    "#### <font color='red'> Comment on the relationships between $\\texttt{a_1}$, $\\texttt{a_mean_red}$, and $\\texttt{a_mean_blue}$ above based on their dot products and relative angles. What do these values tell you about how senators of a given party are likely to vote?\n",
    "</font>\n",
    "\n",
    "#### <font color='blue'> [YOUR ANALYSIS HERE]\n",
    "</font>"
   ]
  },
  {
   "cell_type": "markdown",
   "metadata": {},
   "source": [
    "## c) Computing total variance \n",
    "\n",
    "We now wish to observe the variance of the data along the first two principal component axes.\n",
    "\n",
    "#### Fill in the code below to calculate the total variance of the data along the first two principal components $\\texttt{a_1}$ and $\\texttt{a_2}$ and to plot the data on the corresponding axes."
   ]
  },
  {
   "cell_type": "code",
   "execution_count": null,
   "metadata": {},
   "outputs": [],
   "source": [
    "# calculate C (see LaTeX problem for description)\n",
    "X_bar = np.matmul(X.T, X)/n\n",
    "\n",
    "################################################################################\n",
    "### TODO: Calculate the total variance across a_1 and a_2.\n",
    "# Hint: This value is equal to the sum of the two largest eigenvalues of X_bar.\n",
    "\n",
    "total_variance = 0\n",
    "\n",
    "### end TODO\n",
    "################################################################################\n",
    "\n",
    "print('total variance accounted for by first two principal components: ', '%.4f'%total_variance)\n"
   ]
  },
  {
   "cell_type": "markdown",
   "metadata": {},
   "source": [
    "Next, we calculate and plot the projection onto the plane spanned by the first two principal components."
   ]
  },
  {
   "cell_type": "code",
   "execution_count": null,
   "metadata": {},
   "outputs": [],
   "source": [
    "# calculate projected data matrix and observe its shape\n",
    "pca = PCA(n_components=2)\n",
    "projected = pca.fit_transform(X)\n",
    "print(projected.shape)\n",
    "\n",
    "# plot projected data matrix\n",
    "plt.scatter(projected[:, 0], projected[:, 1], c=affiliations)\n",
    "plt.xlabel('a_1')\n",
    "plt.ylabel('a_2')\n",
    "plt.title('projection on plane spanned by first two principal components')\n",
    "plt.show()"
   ]
  },
  {
   "cell_type": "markdown",
   "metadata": {},
   "source": [
    "## d) Finding bills that are the most/least contentious\n",
    "\n",
    "We now wish to observe which bills are the most and least contentious — i.e., those for which most senators voted unanimously, and those for which support was most varied. We consider two possible ways of quantifying this relationship mathematically.\n",
    "\n",
    "### Approach 1: Compute the variance of the columns of $X$\n",
    "\n",
    "One option is to compute the variance of each column of $X$ — each of which corresponds to a particular bill — and use this variance as a measure of \"contentiousness\" (i.e., the more contentious a bill, the higher its variance in terms of senator vote count). Note that the variance of a particular bill in column $j$ can be viewed as the variance of scores along $e_j$, where $e_j$ is a basis vector whose $j^\\textrm{th}$ entry is 1 and all others 0.\n",
    "\n",
    "#### Fill in the code below to calculate the variance of $X$, extract the most and least contentious bills, and plot their vote counts, commenting on your results where indicated."
   ]
  },
  {
   "cell_type": "code",
   "execution_count": null,
   "metadata": {},
   "outputs": [],
   "source": [
    "# calculate the variance of each column\n",
    "list_variances = X.var(0)\n",
    "bills = senator_df['bill_type bill_name bill_ID'].values\n",
    "\n",
    "################################################################################\n",
    "### TODO: Compute sorted_idx_variances, an np.array of shape (542,) containing\n",
    "### integer entries that are the indices of variance scores in list_variances in\n",
    "### decreasing order of variance. For example, if list_variances = [1, 3, 2, 4], \n",
    "### then sorted_idx_variances = np.array([3,1,2,0]).\n",
    "# Hint: Use np.argsort().\n",
    "\n",
    "sorted_idx_variances = np.arange(542)\n",
    "### end TODO\n",
    "################################################################################\n",
    "\n",
    "print(sorted_idx_variances.shape)"
   ]
  },
  {
   "cell_type": "markdown",
   "metadata": {},
   "source": [
    "Using this sorted index, we can now plot the vote counts for the top 5 highest and lowest variance bills."
   ]
  },
  {
   "cell_type": "code",
   "execution_count": null,
   "metadata": {},
   "outputs": [],
   "source": [
    "# retrieve the bills with the 5 highest and lowest variances\n",
    "top_5 = [bills[sorted_idx_variances[i]] for i in range(5)]\n",
    "bot_5 = [bills[sorted_idx_variances[-1-i]] for i in range(5)]\n",
    "\n",
    "# set up figure with all desired subplots\n",
    "fig, axes = plt.subplots(5,2, figsize=(15,15))\n",
    "\n",
    "# plot highest variance bills\n",
    "for i in range(5): \n",
    "    idx = sorted_idx_variances[i]\n",
    "    \n",
    "    # retrieve vote counts from original uncentered data matrix\n",
    "    X_red_c = X_original[np.array(affiliations) == 'Red',idx]\n",
    "    X_blue_c = X_original[np.array(affiliations) == 'Blue',idx]\n",
    "    X_yellow_c = X_original[np.array(affiliations) == 'Yellow',idx]\n",
    "    \n",
    "    axes[i,0].hist([X_red_c, X_blue_c, X_yellow_c], color = ['red', 'blue', 'yellow'])\n",
    "    axes[i,0].set_title(bills[idx])\n",
    "\n",
    "# plot lowest variance bills\n",
    "for i in range(1,6): \n",
    "    idx2 = sorted_idx_variances[-i]\n",
    "    \n",
    "    # retrieve vote counts from original uncentered data matrix\n",
    "    X_red_c2 = X_original[np.array(affiliations) == 'Red',idx2]\n",
    "    X_blue_c2 = X_original[np.array(affiliations) == 'Blue',idx2]\n",
    "    X_yellow_c2 = X_original[np.array(affiliations) == 'Yellow',idx2]\n",
    "    \n",
    "    axes[i-1,1].hist([X_red_c2, X_blue_c2, X_yellow_c2], color = ['red', 'blue', 'yellow'])\n",
    "    axes[i-1,1].set_title(bills[idx2])\n",
    "\n",
    "plt.subplots_adjust(hspace=0.5, wspace = 1)    \n",
    "fig.suptitle('Most Variance -- Least Variance', fontsize=16)\n",
    "plt.show()\n"
   ]
  },
  {
   "cell_type": "markdown",
   "metadata": {},
   "source": [
    "### <font color='red'>TODO: Interpretation</font>\n",
    "#### <font color='red'> Comment on the voting trends you observe in the plots above. In general, if a vote is {contentious, uncontentious}, what do you expect the plots to look like?\n",
    "</font>\n",
    "\n",
    "#### <font color='blue'> [YOUR ANALYSIS HERE]\n",
    "</font>"
   ]
  },
  {
   "cell_type": "markdown",
   "metadata": {},
   "source": [
    "We now consider a second possible metric for \"contentiousness\" and perform a similar computation.\n",
    "\n",
    "### Approach 2: Project each bill's basis vector $e_j$ onto $a_1$\n",
    "\n",
    "Instead of defining the most (least) contentious bills as those the of highest (lowest) variance, we can define them as those whose corresponding basis vectors $e_j$ remain the largest (smallest) in magnitude when projected onto the first principal component $a_1$. Note that this is equivalent to computing the inner product of $a_1$ with each $e_j$ and choosing those with highest (lowest) absolute value. Since we are taking inner products with standard basis vectors, this is equivalent to simply choosing the values of $a_1$ with the largest (smallest) magnitude! (Think about what this implies about the definition of $a_1$.)\n",
    "\n",
    "We compute and plot the 5 most and least contentious bills by this metric below."
   ]
  },
  {
   "cell_type": "code",
   "execution_count": null,
   "metadata": {},
   "outputs": [],
   "source": [
    "# flatten the first principal component a_1, then compute its absolute value\n",
    "a_1_flat = np.ndarray.flatten(a_1)\n",
    "abs_a_1 = np.abs(a_1_flat)\n",
    "\n",
    "# find sorted indices of a_1 entry magnitudes in decreasing order\n",
    "sorted_idxes = np.argsort(-abs_a_1)\n",
    "\n",
    "# retrieve the bills with the 5 highest and lowest magnitudes\n",
    "top_5_a1 = [bills[sorted_idxes[i]] for i in range(5)]\n",
    "bot_5_a1 = [bills[sorted_idxes[-1-i]] for i in range(5)]\n",
    "\n",
    "# set up figure with all desired subplots\n",
    "fig, axes = plt.subplots(5,2, figsize=(15,15))\n",
    "\n",
    "# plot highest magnitude bills\n",
    "for i in range(5): \n",
    "    idx = sorted_idxes[i]\n",
    "\n",
    "    # retrieve vote counts from original uncentered data matrix\n",
    "    X_red_c = X_original[np.array(affiliations) == 'Red',idx]\n",
    "    X_blue_c = X_original[np.array(affiliations) == 'Blue',idx]\n",
    "    X_yellow_c = X_original[np.array(affiliations) == 'Yellow',idx]\n",
    "    \n",
    "    axes[i,0].hist([X_red_c, X_blue_c, X_yellow_c], color = ['red', 'blue', 'yellow'])\n",
    "    axes[i,0].set_title(bills[idx])\n",
    "\n",
    "# plot lowest magnitude bills\n",
    "for i in range(1,6): \n",
    "    idx2 = sorted_idxes[-i]\n",
    "\n",
    "    # retrieve vote counts from original uncentered data matrix\n",
    "    X_red_c2 = X_original[np.array(affiliations) == 'Red',idx2]\n",
    "    X_blue_c2 = X_original[np.array(affiliations) == 'Blue',idx2]\n",
    "    X_yellow_c2 = X_original[np.array(affiliations) == 'Yellow',idx2]\n",
    "    \n",
    "    axes[i-1,1].hist([X_red_c2, X_blue_c2, X_yellow_c2], color = ['red', 'blue', 'yellow'])\n",
    "    axes[i-1,1].set_title(bills[idx2])\n",
    "\n",
    "plt.subplots_adjust(hspace=0.5, wspace = 1)    \n",
    "fig.suptitle('Highest Magnitude -- Lowest Magnitude', fontsize=16)\n",
    "plt.show()\n"
   ]
  },
  {
   "cell_type": "markdown",
   "metadata": {},
   "source": [
    "### <font color='red'>TODO: Interpretation</font>\n",
    "#### <font color='red'> Comment on the voting trends you observe in the plots above and how they compare to those calculated using variance. In general, if a vote is {contentious, uncontentious}, what do you expect the plots to look like?\n",
    "</font>\n",
    "\n",
    "#### <font color='blue'> [YOUR ANALYSIS HERE]\n",
    "</font>"
   ]
  },
  {
   "cell_type": "markdown",
   "metadata": {},
   "source": [
    "Lastly, let us observe how many bills are considered most (least) contentious by both approaches."
   ]
  },
  {
   "cell_type": "code",
   "execution_count": null,
   "metadata": {},
   "outputs": [],
   "source": [
    "# calculate number of bills considered most and least contentious by both approaches\n",
    "print('number of common bills in top 5: ', len(np.intersect1d(top_5 ,top_5_a1)))\n",
    "print('number of common bills in bottom 5: ', len(np.intersect1d(bot_5 ,bot_5_a1)))\n"
   ]
  },
  {
   "cell_type": "markdown",
   "metadata": {},
   "source": [
    "### <font color='red'>TODO: Interpretation</font>\n",
    "#### <font color='red'> Are the bills computed by the two methods the same? Why or why not?\n",
    "</font>\n",
    "\n",
    "#### <font color='blue'> [YOUR ANALYSIS HERE]\n",
    "</font>"
   ]
  },
  {
   "cell_type": "markdown",
   "metadata": {},
   "source": [
    "## e) Finding extreme senators\n",
    "\n",
    "Lastly, let us return to our initial definition of $f(X,a)$, which assigns each senator a score. We will now use this value computed along the first principal component $a$ to assign the following classifications to our senators:\n",
    "\n",
    "- Senators with the top 10 most positive scores and top 10 most negative scores are classified as *most extreme*.\n",
    "- Senators with the 20 scores closest to 0 are classified as *least extreme*.\n",
    "\n",
    "In the final subproblem, we observe these scores and how they relate to party affiliation."
   ]
  },
  {
   "cell_type": "markdown",
   "metadata": {},
   "source": [
    "We first compute the most extreme senators:"
   ]
  },
  {
   "cell_type": "code",
   "execution_count": null,
   "metadata": {},
   "outputs": [],
   "source": [
    "# extract senator names\n",
    "senators = senator_df.columns.values[3:]\n",
    "\n",
    "# compute and sort senators scores and corresponding affiliations\n",
    "senator_scores = f(X,a_1)[:,0]\n",
    "complete_sort_indices = np.argsort(senator_scores)\n",
    "sort_indices = np.hstack([complete_sort_indices[:10], complete_sort_indices[-11:-1]])\n",
    "senators_sorted = senators[sort_indices]\n",
    "senator_scores_sorted = senator_scores[sort_indices]\n",
    "affiliations = np.array(affiliations)\n",
    "affiliations_sorted = affiliations[sort_indices]\n",
    "\n",
    "plt.barh(y = senators_sorted, width = senator_scores_sorted, color = affiliations_sorted)\n",
    "plt.title('scores of the most extreme \\'Red\\' and \\'Blue\\' senators')\n",
    "plt.show()\n"
   ]
  },
  {
   "cell_type": "markdown",
   "metadata": {},
   "source": [
    "And the least extreme senators:"
   ]
  },
  {
   "cell_type": "code",
   "execution_count": null,
   "metadata": {},
   "outputs": [],
   "source": [
    "# compute and sort senators scores and corresponding affiliations\n",
    "senator_scores = f(X,a_1)[:,0]\n",
    "complete_sort_indices = np.argsort(np.abs(senator_scores))[:20]\n",
    "senator_scores_le= senator_scores[complete_sort_indices]\n",
    "senators_le = senators[complete_sort_indices]\n",
    "affiliations = np.array(affiliations)\n",
    "affiliations_le = affiliations[complete_sort_indices]\n",
    "sort_indices = np.argsort(senator_scores_le)\n",
    "senators_sorted = senators_le[sort_indices]\n",
    "senator_scores_sorted = senator_scores_le[sort_indices]\n",
    "affiliations_sorted = affiliations_le[sort_indices]\n",
    "\n",
    "plt.barh(y = senators_sorted, width = senator_scores_sorted, color = affiliations_sorted)\n",
    "plt.title('scores of the least extreme \\'Red\\' and \\'Blue\\' senators')\n",
    "plt.show()"
   ]
  },
  {
   "cell_type": "markdown",
   "metadata": {},
   "source": [
    "### <font color='red'>TODO: Interpretation</font>\n",
    "#### <font color='red'> Comment on the sign of senators' scores and what they say about party affiliation for both the most and least extreme senators. (Bonus: Can you locate some of the senators on your PCA projection plot in part (a) above?)\n",
    "</font>\n",
    "\n",
    "#### <font color='blue'> [YOUR ANALYSIS HERE]\n",
    "</font>"
   ]
  },
  {
   "cell_type": "code",
   "execution_count": null,
   "metadata": {},
   "outputs": [],
   "source": []
  }
 ],
 "metadata": {
  "kernelspec": {
   "display_name": "Python 3",
   "language": "python",
   "name": "python3"
  },
  "language_info": {
   "codemirror_mode": {
    "name": "ipython",
    "version": 3
   },
   "file_extension": ".py",
   "mimetype": "text/x-python",
   "name": "python",
   "nbconvert_exporter": "python",
   "pygments_lexer": "ipython3",
   "version": "3.8.5"
  }
 },
 "nbformat": 4,
 "nbformat_minor": 2
}
