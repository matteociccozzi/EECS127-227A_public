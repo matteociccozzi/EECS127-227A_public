{
 "cells": [
  {
   "cell_type": "code",
   "execution_count": 1,
   "metadata": {
    "id": "F-GIG6Kof-_T"
   },
   "outputs": [],
   "source": [
    "import numpy as np\n",
    "import cvxpy as cp\n",
    "import itertools"
   ]
  },
  {
   "cell_type": "markdown",
   "metadata": {},
   "source": [
    "Here is the problem, shown again for your convenience:\n"
   ]
  },
  {
   "cell_type": "markdown",
   "metadata": {},
   "source": [
    "\\begin{align*}\n",
    "        \\min\\; &ax + by + c\\\\\n",
    "        \\text{subject to}\\;\\; &x \\geq 0,\\\\\n",
    "        & y \\ge 0,\\\\\n",
    "        &x + 2y \\leq 6,\\\\\n",
    "        &5x + 2y \\leq 10.\n",
    "    \\end{align*}"
   ]
  },
  {
   "cell_type": "markdown",
   "metadata": {
    "id": "lqxfS_LaoFVV"
   },
   "source": [
    "### **Define the constraints**\n",
    "\n",
    "Let the constraint be expressed as ax + by <= c\n",
    "We will define the constraints in form of tuples, with the first element being [a,b] and second element being c "
   ]
  },
  {
   "cell_type": "code",
   "execution_count": 2,
   "metadata": {
    "id": "H3K5byJxoC5M"
   },
   "outputs": [],
   "source": [
    "constraints = []\n",
    "constraints.append(([1,2],6))\n",
    "#TODO Add other constraints here"
   ]
  },
  {
   "cell_type": "markdown",
   "metadata": {
    "id": "nLJirgvm7WRx"
   },
   "source": [
    "### **Define function to find corners of polyhedron formed by the constraints**"
   ]
  },
  {
   "cell_type": "code",
   "execution_count": null,
   "metadata": {
    "id": "V7ujGotClh1y"
   },
   "outputs": [],
   "source": [
    "def findCorners(constraints):\n",
    "  intersections = []\n",
    "  for (con1,con2) in itertools.combinations(constraints,2):\n",
    "    if np.linalg.det(np.stack([con1[0],con2[0]]))!=0:#non-parallel lines\n",
    "      a = np.array([con1[0], con2[0]])\n",
    "      b = np.array([con1[1], con2[1]])\n",
    "      x,y = np.linalg.solve(a, b)\n",
    "      intersections.append((x,y))\n",
    "\n",
    "  corners = intersections.copy()\n",
    "  for point in intersections:\n",
    "    point_inside = np.prod([con[0]@np.array(point)<=con[1] for con in constraints])\n",
    "    if not point_inside: corners.remove(point)\n",
    "\n",
    "  return corners"
   ]
  },
  {
   "cell_type": "markdown",
   "metadata": {
    "id": "az4qfSde4bzb"
   },
   "source": [
    "### For the following optimization objectives, **Find the value of the objective at the corner points** and **deduce the solution of the optimization problem** from the values at the corner points. Express the objective in the form of ax+by+c, and obj as [a,b,c]"
   ]
  },
  {
   "cell_type": "markdown",
   "metadata": {
    "id": "nR1mFEIN-Zv8"
   },
   "source": [
    "### **Objective = -2x+3y+5**"
   ]
  },
  {
   "cell_type": "code",
   "execution_count": null,
   "metadata": {
    "id": "c46iaPlm4a5p"
   },
   "outputs": [],
   "source": [
    "corners = #TODO find the corners of polytope\n",
    "obj = [-2,3,5]\n",
    "for corner in corners:\n",
    "  objVal = #TODO\n",
    "  print(\"Corner Point:\",corner, \"Objective value:\", objVal)"
   ]
  },
  {
   "cell_type": "markdown",
   "metadata": {
    "id": "Lm567NyK6EJo"
   },
   "source": [
    "***TODO: Enter the solution(s) for above optimization problem and your justifications here***"
   ]
  },
  {
   "cell_type": "markdown",
   "metadata": {
    "id": "Hw65_x6O-TX3"
   },
   "source": [
    "### **Objective = -x-2y+5**"
   ]
  },
  {
   "cell_type": "code",
   "execution_count": null,
   "metadata": {
    "colab": {
     "base_uri": "https://localhost:8080/",
     "height": 85
    },
    "id": "Qac7dXEA7sbZ",
    "outputId": "5745ff2d-fd7e-42f3-cacd-51c787c35bc8"
   },
   "outputs": [
    {
     "name": "stdout",
     "output_type": "stream",
     "text": [
      "Corner Point: (1.0, 2.5) Objective value: -1.0\n",
      "Corner Point: (0.0, 3.0) Objective value: -1.0\n",
      "Corner Point: (2.0, -0.0) Objective value: 3.0\n",
      "Corner Point: (-0.0, -0.0) Objective value: 5.0\n"
     ]
    }
   ],
   "source": [
    "corners = #TODO find the corners of polytope\n",
    "obj = [-1,-2,5]\n",
    "for corner in corners:\n",
    "  objVal = #TODO\n",
    "  print(\"Corner Point:\",corner, \"Objective value:\", objVal)"
   ]
  },
  {
   "cell_type": "markdown",
   "metadata": {
    "id": "5saU2GzW7uOd"
   },
   "source": [
    "***TODO: Enter the solution(s) for above optimization problem and your justifications here***"
   ]
  },
  {
   "cell_type": "markdown",
   "metadata": {
    "id": "GD6WkVfU-fUL"
   },
   "source": [
    "### **Objective = 5**"
   ]
  },
  {
   "cell_type": "code",
   "execution_count": null,
   "metadata": {
    "colab": {
     "base_uri": "https://localhost:8080/",
     "height": 85
    },
    "id": "zBNn-IA69hHZ",
    "outputId": "f72ab439-7992-4649-a60e-01de6d15eecb"
   },
   "outputs": [
    {
     "name": "stdout",
     "output_type": "stream",
     "text": [
      "Corner Point: (1.0, 2.5) Objective value: 5.0\n",
      "Corner Point: (0.0, 3.0) Objective value: 5.0\n",
      "Corner Point: (2.0, -0.0) Objective value: 5.0\n",
      "Corner Point: (-0.0, -0.0) Objective value: 5.0\n"
     ]
    }
   ],
   "source": [
    "corners = #TODO find the corners of polytope\n",
    "obj = 5\n",
    "for corner in corners:\n",
    "  objVal = #TODO\n",
    "  print(\"Corner Point:\",corner, \"Objective value:\", objVal)"
   ]
  },
  {
   "cell_type": "markdown",
   "metadata": {
    "id": "ZbNPKrm99ni3"
   },
   "source": [
    "***TODO: Enter the solution(s) for above optimization problem and your justifications here***"
   ]
  },
  {
   "cell_type": "markdown",
   "metadata": {
    "id": "2dA6HAwe-ygf"
   },
   "source": [
    "### **Now we will solve the problems using an optimization tool cvxpy** "
   ]
  },
  {
   "cell_type": "markdown",
   "metadata": {
    "id": "1LTa24N_lU5C"
   },
   "source": [
    "### **Define the variable**"
   ]
  },
  {
   "cell_type": "code",
   "execution_count": null,
   "metadata": {
    "id": "nphHqLdagDBA"
   },
   "outputs": [],
   "source": [
    "x = #Define cvxpy 2-dimensional variables"
   ]
  },
  {
   "cell_type": "markdown",
   "metadata": {
    "id": "PRVAZnJ7lK7-"
   },
   "source": [
    "### **Define the constraints**"
   ]
  },
  {
   "cell_type": "code",
   "execution_count": null,
   "metadata": {
    "id": "vE4ZY56UgfRI"
   },
   "outputs": [],
   "source": [
    "constraints = []\n",
    "#TODO Add constraints to the list, following cvxpy syntax for constraints"
   ]
  },
  {
   "cell_type": "markdown",
   "metadata": {
    "id": "37YOZujmlQXO"
   },
   "source": [
    "### **Run optimization for various objectives**"
   ]
  },
  {
   "cell_type": "code",
   "execution_count": null,
   "metadata": {
    "id": "32RrLjxwhA_4"
   },
   "outputs": [],
   "source": [
    "objectives = [[-2,3,5],[-1,-2,5],[0,0,5]]\n",
    "for obj in objectives:\n",
    "  objective = #TODO formulate the objective\n",
    "  prob = #Define the optimization problem in cvxpy syntax\n",
    "  prob.solve()\n",
    "  print(\"\\nObjective = %dx+%dy+%d. The optimal value is %.2f and a solution x is\"%(obj[0],obj[1],obj[2],prob.value),np.round(x.value,1))"
   ]
  }
 ],
 "metadata": {
  "colab": {
   "collapsed_sections": [],
   "name": "HW5_127_Q2.ipynb",
   "provenance": []
  },
  "kernelspec": {
   "display_name": "Python 3",
   "language": "python",
   "name": "python3"
  },
  "language_info": {
   "codemirror_mode": {
    "name": "ipython",
    "version": 3
   },
   "file_extension": ".py",
   "mimetype": "text/x-python",
   "name": "python",
   "nbconvert_exporter": "python",
   "pygments_lexer": "ipython3",
   "version": "3.8.5"
  }
 },
 "nbformat": 4,
 "nbformat_minor": 1
}
