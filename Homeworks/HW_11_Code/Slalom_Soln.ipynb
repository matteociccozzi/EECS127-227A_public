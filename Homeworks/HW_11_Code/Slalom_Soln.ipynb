{
 "cells": [
  {
   "cell_type": "markdown",
   "metadata": {},
   "source": [
    "### Slalom Problem"
   ]
  },
  {
   "cell_type": "code",
   "execution_count": 1,
   "metadata": {
    "collapsed": true
   },
   "outputs": [],
   "source": [
    "from cvxpy import *"
   ]
  },
  {
   "cell_type": "markdown",
   "metadata": {},
   "source": [
    "#### Here, we have our inputs: the x, y, and c coordinates as given in the problem statement"
   ]
  },
  {
   "cell_type": "code",
   "execution_count": 2,
   "metadata": {
    "collapsed": true
   },
   "outputs": [],
   "source": [
    "x0, y0 = 0, 4\n",
    "x1, y1, c1 = 4, 5, 3\n",
    "x2, y2, c2 = 8, 4, 2\n",
    "x3, y3, c3 = 12, 6, 2\n",
    "x4, y4, c4 = 16, 5, 1\n",
    "x5, y5, c5 = 20, 7, 2\n",
    "x6, y6 = 24, 4\n"
   ]
  },
  {
   "cell_type": "markdown",
   "metadata": {},
   "source": [
    "#### Initialize the variables we are optimizing over, construct the constraints and the objective function, and obtain the optimization problem."
   ]
  },
  {
   "cell_type": "code",
   "execution_count": 3,
   "metadata": {
    "collapsed": true
   },
   "outputs": [],
   "source": [
    "# Initialize any and all cvxpy variables that you will use\n",
    "\n",
    "z1 = Variable()\n",
    "z2 = Variable()\n",
    "z3 = Variable()\n",
    "z4 = Variable()\n",
    "z5 = Variable()\n"
   ]
  },
  {
   "cell_type": "code",
   "execution_count": 4,
   "metadata": {
    "collapsed": true
   },
   "outputs": [],
   "source": [
    "# Now, we put in our constraints\n",
    "\n",
    "constraints = [\n",
    "    z1 <= y1 + 0.5*c1,\n",
    "    z2 <= y2 + 0.5*c2,\n",
    "    z3 <= y3 + 0.5*c3,\n",
    "    z4 <= y4 + 0.5*c4,\n",
    "    z5 <= y5 + 0.5*c5,\n",
    "    y1 - 0.5*c1 <= z1,\n",
    "    y2 - 0.5*c2 <= z2,\n",
    "    y3 - 0.5*c3 <= z3,\n",
    "    y4 - 0.5*c4 <= z4,\n",
    "    y5 - 0.5*c5 <= z5\n",
    "    \n",
    "]"
   ]
  },
  {
   "cell_type": "code",
   "execution_count": 5,
   "metadata": {
    "collapsed": true
   },
   "outputs": [],
   "source": [
    "# Here, input your objective function.\n",
    "\n",
    "obj = Minimize( norm(vstack( [(z1 - y0), (x0 - x1)] ), 2) + \n",
    "                norm(vstack( [(z1 - z2), (x1 - x2)] ), 2) +\n",
    "                norm(vstack( [(z2 - z3), (x2 - x3)] ), 2) + \n",
    "                norm(vstack( [(z3 - z4), (x3 - x4)] ), 2) + \n",
    "                norm(vstack( [(z4 - z5), (x4 - x5)] ), 2) + \n",
    "                norm(vstack( [(z5 - y6), (x5 - x6)] ), 2))"
   ]
  },
  {
   "cell_type": "code",
   "execution_count": 6,
   "metadata": {},
   "outputs": [
    {
     "data": {
      "text/plain": [
       "24.573423492859153"
      ]
     },
     "execution_count": 6,
     "metadata": {},
     "output_type": "execute_result"
    }
   ],
   "source": [
    "# creating the optimization problem here, putting together the objective and the constraints\n",
    "prob = Problem(obj, constraints)\n",
    "prob.solve() #optimal path length here!!"
   ]
  },
  {
   "cell_type": "markdown",
   "metadata": {
    "collapsed": true
   },
   "source": [
    "##### Just check that your optimization variables respect the constraints here (OPTIONAL, but good for debugging)"
   ]
  },
  {
   "cell_type": "code",
   "execution_count": 7,
   "metadata": {},
   "outputs": [
    {
     "data": {
      "text/plain": [
       "(3.5, 4.3750406002097018, 6.5)"
      ]
     },
     "execution_count": 7,
     "metadata": {},
     "output_type": "execute_result"
    }
   ],
   "source": [
    "y1 - 0.5*c1, z1.value, y1 + 0.5*c1"
   ]
  },
  {
   "cell_type": "code",
   "execution_count": 8,
   "metadata": {},
   "outputs": [
    {
     "data": {
      "text/plain": [
       "(3.0, 4.7499939319970048, 5.0)"
      ]
     },
     "execution_count": 8,
     "metadata": {},
     "output_type": "execute_result"
    }
   ],
   "source": [
    "y2 - 0.5*c2, z2.value, y2 + 0.5*c2"
   ]
  },
  {
   "cell_type": "code",
   "execution_count": 9,
   "metadata": {},
   "outputs": [
    {
     "data": {
      "text/plain": [
       "(5.0, 5.1249886149029731, 7.0)"
      ]
     },
     "execution_count": 9,
     "metadata": {},
     "output_type": "execute_result"
    }
   ],
   "source": [
    "y3 - 0.5*c3, z3.value, y3 + 0.5*c3"
   ]
  },
  {
   "cell_type": "markdown",
   "metadata": {},
   "source": [
    "#### Here is our path, given by the coordinates that we found above"
   ]
  },
  {
   "cell_type": "code",
   "execution_count": 10,
   "metadata": {
    "collapsed": true
   },
   "outputs": [],
   "source": [
    "path = (x0, y0), (x1, z1.value), (x2, z2.value), (x3, z3.value), (x4, z4.value), (x5, z5.value), (x6, y6)"
   ]
  },
  {
   "cell_type": "code",
   "execution_count": 11,
   "metadata": {},
   "outputs": [
    {
     "name": "stdout",
     "output_type": "stream",
     "text": [
      "x y\n",
      "0 4\n",
      "4 4.37504060021\n",
      "8 4.749993932\n",
      "12 5.1249886149\n",
      "16 5.4999998937\n",
      "20 6.00000000205\n",
      "24 4\n"
     ]
    }
   ],
   "source": [
    "print(\"x\", \"y\")\n",
    "for p in path:\n",
    "    print(p[0], p[1])"
   ]
  }
 ],
 "metadata": {
  "kernelspec": {
   "display_name": "Python 3",
   "language": "python",
   "name": "python3"
  },
  "language_info": {
   "codemirror_mode": {
    "name": "ipython",
    "version": 3
   },
   "file_extension": ".py",
   "mimetype": "text/x-python",
   "name": "python",
   "nbconvert_exporter": "python",
   "pygments_lexer": "ipython3",
   "version": "3.6.4"
  }
 },
 "nbformat": 4,
 "nbformat_minor": 2
}
