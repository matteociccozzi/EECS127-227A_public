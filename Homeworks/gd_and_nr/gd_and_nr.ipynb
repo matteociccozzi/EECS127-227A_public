{
 "cells": [
  {
   "cell_type": "markdown",
   "metadata": {},
   "source": [
    "# Performance Testing of Gradient Descent and Newton-Raphson Method\n",
    "## Places where you have to write code are marked with #TODO"
   ]
  },
  {
   "cell_type": "code",
   "execution_count": null,
   "metadata": {},
   "outputs": [],
   "source": [
    "import numpy as np\n",
    "import matplotlib.pyplot as plt\n",
    "from mpl_toolkits.mplot3d import Axes3D"
   ]
  },
  {
   "cell_type": "markdown",
   "metadata": {},
   "source": [
    "## Tesing with a paraboloid"
   ]
  },
  {
   "cell_type": "markdown",
   "metadata": {},
   "source": [
    "### Define the paraboloid function"
   ]
  },
  {
   "cell_type": "code",
   "execution_count": null,
   "metadata": {},
   "outputs": [],
   "source": [
    "def f(x):\n",
    "    (x1,x2) = x\n",
    "    return x1*x1 + x2*x2 - 8*x1 + 2*x2 + 17"
   ]
  },
  {
   "cell_type": "markdown",
   "metadata": {},
   "source": [
    "### Visualize the function in 3D"
   ]
  },
  {
   "cell_type": "code",
   "execution_count": null,
   "metadata": {},
   "outputs": [],
   "source": [
    "x = np.arange(0, 8, 0.1)\n",
    "y = np.arange(-4, 4, 0.1)\n",
    "xx, yy = np.meshgrid(x, y, sparse=True)\n",
    "z = f([xx,yy])\n",
    "fig = plt.figure()\n",
    "ax = fig.add_subplot(111, projection='3d')\n",
    "ax.plot_surface(xx,yy,z, rstride=1, cstride=1,\n",
    "                cmap='viridis', edgecolor='none');\n",
    "ax.view_init(elev=10., azim=150)\n",
    "ax.set_xlabel('$x$')\n",
    "ax.set_ylabel('$y$')\n",
    "ax.set_zlabel('$z$')\n",
    "ax.get_xaxis().set_ticks([])\n",
    "ax.get_yaxis().set_ticks([])\n",
    "ax.get_zaxis().set_ticks([])\n",
    "plt.show()"
   ]
  },
  {
   "cell_type": "markdown",
   "metadata": {},
   "source": [
    "### TODO: Define first derivative and hessian of function"
   ]
  },
  {
   "cell_type": "code",
   "execution_count": null,
   "metadata": {},
   "outputs": [],
   "source": [
    "def delta_f(x):\n",
    "    #TODO\n",
    "def hessian_f():\n",
    "    #TODO"
   ]
  },
  {
   "cell_type": "markdown",
   "metadata": {},
   "source": [
    "### Take an initial guess of optimal solution and perform iterations to update it "
   ]
  },
  {
   "cell_type": "code",
   "execution_count": null,
   "metadata": {},
   "outputs": [],
   "source": [
    "xin = np.array([8,3]) #initial guess of optimal solution\n",
    "num_steps = 100\n",
    "step_size = 0.9\n",
    "\n",
    "x_curr_grad = xin #variable to be updated using gradient descent\n",
    "x_curr_nr = xin #variable to be updated using Newton-Raphson method\n",
    "\n",
    "####### These are logging variables for visualization ######\n",
    "gradient_path = [xin]\n",
    "nr_path = [xin]\n",
    "fn_val_grad = [f(xin)]\n",
    "fn_val_nr = [f(xin)]\n",
    "###########################################################\n",
    "\n",
    "for step in range(num_steps):\n",
    "    x_curr_grad = x_curr_grad - step_size*delta_f(x_curr_grad)\n",
    "    x_curr_nr = x_curr_nr - step_size*np.matmul(np.linalg.inv(hessian_f()),delta_f(x_curr_nr))\n",
    "    \n",
    "    #### Updating logs ###################\n",
    "    gradient_path.append(x_curr_grad)\n",
    "    nr_path.append(x_curr_nr)\n",
    "    fn_val_grad.append(f(x_curr_grad))\n",
    "    fn_val_nr.append(f(x_curr_nr))\n",
    "    ####################################"
   ]
  },
  {
   "cell_type": "markdown",
   "metadata": {},
   "source": [
    "### Visualize the path followed by Gradient Descent and Newton-Raphson"
   ]
  },
  {
   "cell_type": "code",
   "execution_count": null,
   "metadata": {},
   "outputs": [],
   "source": [
    "fig = plt.figure()\n",
    "ax = fig.add_subplot(111, projection='3d')\n",
    "ax.plot([i[0] for i in gradient_path], [i[1] for i in gradient_path],fn_val_grad,color='r')\n",
    "ax.plot([i[0] for i in nr_path], [i[1] for i in nr_path],fn_val_nr,color='g')\n",
    "ax.plot_surface(xx,yy,z, rstride=1, cstride=1,\n",
    "                cmap='viridis', edgecolor='none',alpha=0.2)\n",
    "ax.view_init(elev=10., azim=150)\n",
    "ax.set_xlabel('$x$')\n",
    "ax.set_ylabel('$y$')\n",
    "ax.set_zlabel('$z$')\n",
    "ax.get_xaxis().set_ticks([])\n",
    "ax.get_yaxis().set_ticks([])\n",
    "ax.get_zaxis().set_ticks([])\n",
    "plt.legend(['Gradient Descent','Newton-Raphson'])\n",
    "plt.show()"
   ]
  },
  {
   "cell_type": "markdown",
   "metadata": {},
   "source": [
    "## Testing with a halfpipe"
   ]
  },
  {
   "cell_type": "markdown",
   "metadata": {},
   "source": [
    "### Define the Halfpipe function"
   ]
  },
  {
   "cell_type": "code",
   "execution_count": null,
   "metadata": {},
   "outputs": [],
   "source": [
    "eps = 0.05\n",
    "def halfpipe(x):\n",
    "    (x1,x2) = x\n",
    "    return np.cosh(eps*x1*x1 + x2*x2)"
   ]
  },
  {
   "cell_type": "markdown",
   "metadata": {},
   "source": [
    "### Visualize the halfpipe function in 3D"
   ]
  },
  {
   "cell_type": "code",
   "execution_count": null,
   "metadata": {},
   "outputs": [],
   "source": [
    "x = np.arange(-2, 2, 0.1)\n",
    "y = np.arange(-1, 1, 0.01)\n",
    "xx, yy = np.meshgrid(x, y, sparse=True)\n",
    "z = halfpipe([xx,yy])\n",
    "fig = plt.figure(figsize=plt.figaspect(0.3))\n",
    "ax = fig.add_subplot(1,2,1, projection='3d')\n",
    "ax.plot_surface(xx,yy,z, rstride=1, cstride=1,\n",
    "                cmap='viridis', edgecolor='none');\n",
    "ax.view_init(elev=10., azim=270)\n",
    "ax.set_xlabel('$x$')\n",
    "ax.set_ylabel('$y$')\n",
    "ax.set_zlabel('$z$')\n",
    "ax.get_xaxis().set_ticks([])\n",
    "ax.get_yaxis().set_ticks([])\n",
    "ax.get_zaxis().set_ticks([])\n",
    "ax = fig.add_subplot(1,2,2, projection='3d')\n",
    "ax.plot_surface(xx,yy,z, rstride=1, cstride=1,\n",
    "                cmap='viridis', edgecolor='none');\n",
    "ax.view_init(elev=10., azim=170)\n",
    "ax.set_xlabel('$x$')\n",
    "ax.set_ylabel('$y$')\n",
    "ax.set_zlabel('$z$')\n",
    "ax.get_xaxis().set_ticks([])\n",
    "ax.get_yaxis().set_ticks([])\n",
    "ax.get_zaxis().set_ticks([])\n",
    "plt.show()"
   ]
  },
  {
   "cell_type": "markdown",
   "metadata": {},
   "source": [
    "### TODO: Define first derivative and hessian of Halfpipe function"
   ]
  },
  {
   "cell_type": "code",
   "execution_count": null,
   "metadata": {},
   "outputs": [],
   "source": [
    "def delta_halfpipe(x):\n",
    "    #TODO\n",
    "def hessian_halfpipe(x):\n",
    "    #TODO"
   ]
  },
  {
   "cell_type": "markdown",
   "metadata": {},
   "source": [
    "### Take an initial guess of optimal solution and perform iterations to update it"
   ]
  },
  {
   "cell_type": "code",
   "execution_count": null,
   "metadata": {},
   "outputs": [],
   "source": [
    "xin = np.array([-2,0.9])\n",
    "num_steps = 5000\n",
    "step_size = 0.1\n",
    "\n",
    "x_curr_grad = xin #variable to be updated using gradient descent\n",
    "x_curr_nr = xin #variable to be updated using Newton-Raphson method\n",
    "\n",
    "####### These are logging variables for visualization ######\n",
    "gradient_path = [xin]\n",
    "nr_path = [xin]\n",
    "fn_val_grad = [halfpipe(xin)]\n",
    "fn_val_nr = [halfpipe(xin)]\n",
    "###########################################################\n",
    "\n",
    "for step in range(num_steps):\n",
    "    x_curr_grad = x_curr_grad - step_size*delta_halfpipe(x_curr_grad)\n",
    "    x_curr_nr = x_curr_nr - step_size*np.matmul(np.linalg.inv(hessian_halfpipe(x_curr_nr)),delta_halfpipe(x_curr_nr))\n",
    "    \n",
    "    #### Updating logs ###################\n",
    "    gradient_path.append(x_curr_grad)\n",
    "    nr_path.append(x_curr_nr)\n",
    "    fn_val_grad.append(halfpipe(x_curr_grad))\n",
    "    fn_val_nr.append(halfpipe(x_curr_nr))\n",
    "    ######################################"
   ]
  },
  {
   "cell_type": "markdown",
   "metadata": {},
   "source": [
    "### Visualize the path followed by Gradient Descent and Newton-Raphson"
   ]
  },
  {
   "cell_type": "code",
   "execution_count": null,
   "metadata": {},
   "outputs": [],
   "source": [
    "fig = plt.figure(figsize=plt.figaspect(0.3))\n",
    "ax = fig.add_subplot(1,2,1, projection='3d')\n",
    "ax.plot([i[0] for i in gradient_path], [i[1] for i in gradient_path],fn_val_grad,color='r')\n",
    "ax.plot([i[0] for i in nr_path], [i[1] for i in nr_path],fn_val_nr,color='g')\n",
    "ax.view_init(elev=10., azim=270)\n",
    "ax.set_xlabel('$x$')\n",
    "ax.set_ylabel('$y$')\n",
    "ax.set_zlabel('$z$')\n",
    "ax.get_xaxis().set_ticks([])\n",
    "ax.get_yaxis().set_ticks([])\n",
    "ax.get_zaxis().set_ticks([])\n",
    "ax.plot_surface(xx,yy,z, rstride=1, cstride=1,\n",
    "                cmap='viridis', edgecolor='none',alpha=0.2)\n",
    "ax = fig.add_subplot(1,2,2, projection='3d')\n",
    "ax.plot([i[0] for i in gradient_path], [i[1] for i in gradient_path],fn_val_grad,color='r')\n",
    "ax.plot([i[0] for i in nr_path], [i[1] for i in nr_path],fn_val_nr,color='g')\n",
    "ax.view_init(elev=10., azim=170)\n",
    "ax.set_xlabel('$x$')\n",
    "ax.set_ylabel('$y$')\n",
    "ax.set_zlabel('$z$')\n",
    "ax.get_xaxis().set_ticks([])\n",
    "ax.get_yaxis().set_ticks([])\n",
    "ax.get_zaxis().set_ticks([])\n",
    "ax.plot_surface(xx,yy,z, rstride=1, cstride=1,\n",
    "                cmap='viridis', edgecolor='none',alpha=0.2)\n",
    "plt.legend(['Gradient Descent','Newton-Raphson'])\n",
    "plt.show()"
   ]
  },
  {
   "cell_type": "code",
   "execution_count": null,
   "metadata": {},
   "outputs": [],
   "source": []
  }
 ],
 "metadata": {
  "kernelspec": {
   "display_name": "Python 3",
   "language": "python",
   "name": "python3"
  },
  "language_info": {
   "codemirror_mode": {
    "name": "ipython",
    "version": 3
   },
   "file_extension": ".py",
   "mimetype": "text/x-python",
   "name": "python",
   "nbconvert_exporter": "python",
   "pygments_lexer": "ipython3",
   "version": "3.8.5"
  }
 },
 "nbformat": 4,
 "nbformat_minor": 2
}
